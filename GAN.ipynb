{
 "cells": [
  {
   "cell_type": "code",
   "execution_count": 2,
   "metadata": {},
   "outputs": [],
   "source": [
    "import torch\n",
    "from torchvision.datasets import MNIST\n",
    "from torchvision.transforms import ToTensor\n",
    "from torchvision import transforms\n",
    "import random"
   ]
  },
  {
   "cell_type": "code",
   "execution_count": 3,
   "metadata": {},
   "outputs": [
    {
     "data": {
      "text/plain": [
       "'2.1.1'"
      ]
     },
     "execution_count": 3,
     "metadata": {},
     "output_type": "execute_result"
    }
   ],
   "source": [
    "import numpy \n",
    "numpy.__version__"
   ]
  },
  {
   "cell_type": "markdown",
   "metadata": {},
   "source": [
    "# Creating a generator"
   ]
  },
  {
   "cell_type": "code",
   "execution_count": 4,
   "metadata": {},
   "outputs": [],
   "source": [
    "import torch.nn as nn\n",
    "\n",
    "# Set a seed\n",
    "\n",
    "latent_dim = 100\n",
    "class Generator(nn.Module):\n",
    "    def block(self,ip_features,op_features,normalize=True):\n",
    "            layers = [nn.Linear(ip_features,op_features)]\n",
    "            if normalize:\n",
    "                layers.append(nn.BatchNorm1d(op_features,0.8))\n",
    "            layers.append(nn.LeakyReLU(0.2,inplace=True))    \n",
    "            return layers\n",
    "    def __init__(self):\n",
    "        super(Generator,self).__init__()\n",
    "        self.model = nn.Sequential(\n",
    "            *self.block(latent_dim,128,False),\n",
    "            *self.block(128,256),\n",
    "            *self.block(256,512),\n",
    "            *self.block(512,1024),\n",
    "            nn.Linear(1024,1*28*28),\n",
    "            nn.Tanh()\n",
    "        )\n",
    "    def forward(self,z):\n",
    "            img = self.model(z)\n",
    "            img = img.view(img.size(0),1,28,28)\n",
    "            return img\n"
   ]
  },
  {
   "cell_type": "markdown",
   "metadata": {},
   "source": [
    "# create a discriminator"
   ]
  },
  {
   "cell_type": "code",
   "execution_count": 5,
   "metadata": {},
   "outputs": [],
   "source": [
    "class Discriminator(nn.Module):\n",
    "    def block(self,ip,op):\n",
    "        layers = [nn.Linear(ip,op),\n",
    "            nn.LeakyReLU(0.2,inplace=True),\n",
    "        ]\n",
    "        return layers\n",
    "    def __init__(self):\n",
    "        super(Discriminator,self).__init__()\n",
    "        self.model =  nn.Sequential(\n",
    "            *self.block(1*28*28,512),\n",
    "            *self.block(512,256),\n",
    "            nn.Linear(256,1),\n",
    "            nn.Sigmoid()\n",
    "        )\n",
    "    def forward(self,z):\n",
    "        img = z.view(z.size(0),-1)\n",
    "        op =  self.model(img)\n",
    "        return op   "
   ]
  },
  {
   "cell_type": "code",
   "execution_count": 6,
   "metadata": {},
   "outputs": [],
   "source": [
    "# adversarial loss would be binary cross entropy\n",
    "\n",
    "adversarial_loss = nn.BCELoss()"
   ]
  },
  {
   "cell_type": "code",
   "execution_count": 7,
   "metadata": {},
   "outputs": [],
   "source": [
    "gen = Generator()\n",
    "disc = Discriminator()"
   ]
  },
  {
   "cell_type": "code",
   "execution_count": 8,
   "metadata": {},
   "outputs": [
    {
     "data": {
      "text/plain": [
       "Discriminator(\n",
       "  (model): Sequential(\n",
       "    (0): Linear(in_features=784, out_features=512, bias=True)\n",
       "    (1): LeakyReLU(negative_slope=0.2, inplace=True)\n",
       "    (2): Linear(in_features=512, out_features=256, bias=True)\n",
       "    (3): LeakyReLU(negative_slope=0.2, inplace=True)\n",
       "    (4): Linear(in_features=256, out_features=1, bias=True)\n",
       "    (5): Sigmoid()\n",
       "  )\n",
       ")"
      ]
     },
     "execution_count": 8,
     "metadata": {},
     "output_type": "execute_result"
    }
   ],
   "source": [
    "disc.to('cuda')"
   ]
  },
  {
   "cell_type": "code",
   "execution_count": 9,
   "metadata": {},
   "outputs": [
    {
     "data": {
      "text/plain": [
       "Generator(\n",
       "  (model): Sequential(\n",
       "    (0): Linear(in_features=100, out_features=128, bias=True)\n",
       "    (1): LeakyReLU(negative_slope=0.2, inplace=True)\n",
       "    (2): Linear(in_features=128, out_features=256, bias=True)\n",
       "    (3): BatchNorm1d(256, eps=0.8, momentum=0.1, affine=True, track_running_stats=True)\n",
       "    (4): LeakyReLU(negative_slope=0.2, inplace=True)\n",
       "    (5): Linear(in_features=256, out_features=512, bias=True)\n",
       "    (6): BatchNorm1d(512, eps=0.8, momentum=0.1, affine=True, track_running_stats=True)\n",
       "    (7): LeakyReLU(negative_slope=0.2, inplace=True)\n",
       "    (8): Linear(in_features=512, out_features=1024, bias=True)\n",
       "    (9): BatchNorm1d(1024, eps=0.8, momentum=0.1, affine=True, track_running_stats=True)\n",
       "    (10): LeakyReLU(negative_slope=0.2, inplace=True)\n",
       "    (11): Linear(in_features=1024, out_features=784, bias=True)\n",
       "    (12): Tanh()\n",
       "  )\n",
       ")"
      ]
     },
     "execution_count": 9,
     "metadata": {},
     "output_type": "execute_result"
    }
   ],
   "source": [
    "gen.to('cuda')"
   ]
  },
  {
   "cell_type": "code",
   "execution_count": 132,
   "metadata": {},
   "outputs": [],
   "source": [
    "\n"
   ]
  },
  {
   "cell_type": "markdown",
   "metadata": {},
   "source": [
    "# switching to GPU"
   ]
  },
  {
   "cell_type": "code",
   "execution_count": 133,
   "metadata": {},
   "outputs": [],
   "source": []
  },
  {
   "cell_type": "markdown",
   "metadata": {},
   "source": [
    "# training the model"
   ]
  },
  {
   "cell_type": "code",
   "execution_count": 1,
   "metadata": {},
   "outputs": [],
   "source": [
    "from torch.utils.data import DataLoader\n",
    "from torchvision.utils import make_grid\n",
    "import torch.optim as opt\n",
    "import numpy as np\n",
    "\n",
    "# hyperparameters\n",
    "n_epochs = 100\n",
    "batch_size = 64\n",
    "lr = 2e-4\n",
    "b1=0.5\n",
    "b2=0.999"
   ]
  },
  {
   "cell_type": "code",
   "execution_count": null,
   "metadata": {},
   "outputs": [],
   "source": [
    "# use adam for generator and discriminator\n",
    "opt_g = opt.Adam(gen.parameters(),lr,betas=(b1,b2))\n",
    "opt_d = opt.Adam(disc.parameters(),lr,betas=(b1,b2))"
   ]
  },
  {
   "cell_type": "code",
   "execution_count": 24,
   "metadata": {},
   "outputs": [],
   "source": [
    "transform = transforms.Compose([transforms.ToTensor(), transforms.Normalize([0.5], [0.5])])\n",
    "train_dataset = MNIST(root='./mnist_data', train=True, transform=transform, download=True)\n",
    "train_loader = DataLoader(train_dataset, batch_size=batch_size, shuffle=True)"
   ]
  },
  {
   "cell_type": "code",
   "execution_count": 25,
   "metadata": {},
   "outputs": [
    {
     "data": {
      "image/png": "[encoded data removed]",
      "text/plain": [
       "<Figure size 800x800 with 9 Axes>"
      ]
     },
     "metadata": {},
     "output_type": "display_data"
    }
   ],
   "source": [
    "import matplotlib.pyplot as plt\n",
    "labels_map = {\n",
    "    0: \"zero\",\n",
    "    1: \"one\",\n",
    "    2: \"two\",\n",
    "    3: \"three\",\n",
    "    4: \"four\",\n",
    "    5: \"five\",\n",
    "    6: \"six\",\n",
    "    7: \"seven\",\n",
    "    8: \"eight\",\n",
    "    9: \"nine\",\n",
    "}\n",
    "figure = plt.figure(figsize=(8, 8))\n",
    "cols, rows = 3, 3\n",
    "for i in range(1, cols * rows + 1):\n",
    "    sample_idx = torch.randint(len(train_dataset), size=(1,)).item()\n",
    "    img, label = train_dataset[sample_idx]\n",
    "    figure.add_subplot(rows, cols, i)\n",
    "    plt.title(labels_map[label])\n",
    "    plt.axis(\"off\")\n",
    "    plt.imshow(img.squeeze(), cmap=\"gray\")\n",
    "plt.show()"
   ]
  },
  {
   "cell_type": "code",
   "execution_count": 26,
   "metadata": {},
   "outputs": [
    {
     "name": "stdout",
     "output_type": "stream",
     "text": [
      "Epoch [1/100] | D Loss: 0.6991 | G Loss: 1.6599\n",
      "Epoch [2/100] | D Loss: 0.7908 | G Loss: 1.7537\n",
      "Epoch [3/100] | D Loss: 0.9325 | G Loss: 1.1137\n",
      "Epoch [4/100] | D Loss: 0.8840 | G Loss: 1.7196\n",
      "Epoch [5/100] | D Loss: 0.8303 | G Loss: 1.2864\n",
      "Epoch [6/100] | D Loss: 0.8079 | G Loss: 1.3648\n",
      "Epoch [7/100] | D Loss: 0.9626 | G Loss: 1.3448\n",
      "Epoch [8/100] | D Loss: 0.9634 | G Loss: 1.2444\n",
      "Epoch [9/100] | D Loss: 1.0952 | G Loss: 1.9536\n",
      "Epoch [10/100] | D Loss: 1.0222 | G Loss: 0.7585\n",
      "Epoch [11/100] | D Loss: 1.1774 | G Loss: 1.5583\n",
      "Epoch [12/100] | D Loss: 1.0020 | G Loss: 1.4576\n",
      "Epoch [13/100] | D Loss: 0.8925 | G Loss: 1.9150\n",
      "Epoch [14/100] | D Loss: 0.9559 | G Loss: 1.0736\n",
      "Epoch [15/100] | D Loss: 0.8857 | G Loss: 1.5436\n",
      "Epoch [16/100] | D Loss: 1.1216 | G Loss: 1.6143\n",
      "Epoch [17/100] | D Loss: 0.7969 | G Loss: 1.4302\n",
      "Epoch [18/100] | D Loss: 0.9222 | G Loss: 2.6337\n",
      "Epoch [19/100] | D Loss: 1.0477 | G Loss: 2.5258\n",
      "Epoch [20/100] | D Loss: 0.9322 | G Loss: 1.0019\n",
      "Epoch [21/100] | D Loss: 0.8890 | G Loss: 1.4255\n",
      "Epoch [22/100] | D Loss: 0.7810 | G Loss: 1.0537\n",
      "Epoch [23/100] | D Loss: 0.9074 | G Loss: 1.9708\n",
      "Epoch [24/100] | D Loss: 0.8606 | G Loss: 1.5741\n",
      "Epoch [25/100] | D Loss: 1.1210 | G Loss: 0.4851\n",
      "Epoch [26/100] | D Loss: 1.0010 | G Loss: 0.9458\n",
      "Epoch [27/100] | D Loss: 0.9117 | G Loss: 0.7371\n",
      "Epoch [28/100] | D Loss: 0.9001 | G Loss: 2.0605\n",
      "Epoch [29/100] | D Loss: 0.7720 | G Loss: 1.3164\n",
      "Epoch [30/100] | D Loss: 0.7429 | G Loss: 1.7937\n",
      "Epoch [31/100] | D Loss: 0.7240 | G Loss: 1.3025\n",
      "Epoch [32/100] | D Loss: 1.0058 | G Loss: 1.4978\n",
      "Epoch [33/100] | D Loss: 0.8203 | G Loss: 1.1120\n",
      "Epoch [34/100] | D Loss: 0.8046 | G Loss: 1.7385\n",
      "Epoch [35/100] | D Loss: 1.0450 | G Loss: 1.9868\n",
      "Epoch [36/100] | D Loss: 0.8403 | G Loss: 2.2381\n",
      "Epoch [37/100] | D Loss: 0.9741 | G Loss: 1.1793\n",
      "Epoch [38/100] | D Loss: 0.9108 | G Loss: 1.3829\n",
      "Epoch [39/100] | D Loss: 1.0071 | G Loss: 1.5423\n",
      "Epoch [40/100] | D Loss: 0.6652 | G Loss: 1.0165\n",
      "Epoch [41/100] | D Loss: 0.8266 | G Loss: 1.3690\n",
      "Epoch [42/100] | D Loss: 0.9346 | G Loss: 2.3640\n",
      "Epoch [43/100] | D Loss: 0.8364 | G Loss: 2.0878\n",
      "Epoch [44/100] | D Loss: 1.0162 | G Loss: 1.3233\n",
      "Epoch [45/100] | D Loss: 0.8577 | G Loss: 2.4588\n",
      "Epoch [46/100] | D Loss: 0.7673 | G Loss: 1.9762\n",
      "Epoch [47/100] | D Loss: 0.7462 | G Loss: 1.4925\n",
      "Epoch [48/100] | D Loss: 0.7464 | G Loss: 2.1515\n",
      "Epoch [49/100] | D Loss: 0.7089 | G Loss: 1.5470\n",
      "Epoch [50/100] | D Loss: 1.2209 | G Loss: 1.4459\n",
      "Epoch [51/100] | D Loss: 0.7196 | G Loss: 1.9674\n",
      "Epoch [52/100] | D Loss: 0.7778 | G Loss: 1.4718\n",
      "Epoch [53/100] | D Loss: 0.8139 | G Loss: 1.5682\n",
      "Epoch [54/100] | D Loss: 0.9100 | G Loss: 1.1763\n",
      "Epoch [55/100] | D Loss: 0.8563 | G Loss: 1.5490\n",
      "Epoch [56/100] | D Loss: 0.9135 | G Loss: 1.8887\n",
      "Epoch [57/100] | D Loss: 0.8004 | G Loss: 1.6162\n",
      "Epoch [58/100] | D Loss: 0.8528 | G Loss: 1.6941\n",
      "Epoch [59/100] | D Loss: 0.8266 | G Loss: 1.3876\n",
      "Epoch [60/100] | D Loss: 0.4755 | G Loss: 2.5113\n",
      "Epoch [61/100] | D Loss: 0.8049 | G Loss: 1.4202\n",
      "Epoch [62/100] | D Loss: 0.7544 | G Loss: 2.1957\n",
      "Epoch [63/100] | D Loss: 0.8507 | G Loss: 1.4558\n",
      "Epoch [64/100] | D Loss: 0.8722 | G Loss: 1.9411\n",
      "Epoch [65/100] | D Loss: 0.8378 | G Loss: 1.6174\n",
      "Epoch [66/100] | D Loss: 0.6958 | G Loss: 1.8476\n",
      "Epoch [67/100] | D Loss: 0.7213 | G Loss: 1.6028\n",
      "Epoch [68/100] | D Loss: 0.7719 | G Loss: 1.6099\n",
      "Epoch [69/100] | D Loss: 0.6471 | G Loss: 1.4804\n",
      "Epoch [70/100] | D Loss: 0.5699 | G Loss: 2.4774\n",
      "Epoch [71/100] | D Loss: 0.7924 | G Loss: 1.1268\n",
      "Epoch [72/100] | D Loss: 0.6544 | G Loss: 1.8476\n",
      "Epoch [73/100] | D Loss: 0.8304 | G Loss: 2.1570\n",
      "Epoch [74/100] | D Loss: 0.9791 | G Loss: 1.4267\n",
      "Epoch [75/100] | D Loss: 0.7757 | G Loss: 1.7160\n",
      "Epoch [76/100] | D Loss: 0.8741 | G Loss: 1.8324\n",
      "Epoch [77/100] | D Loss: 0.9818 | G Loss: 1.8245\n",
      "Epoch [78/100] | D Loss: 0.9012 | G Loss: 1.8376\n",
      "Epoch [79/100] | D Loss: 0.7743 | G Loss: 1.9485\n",
      "Epoch [80/100] | D Loss: 0.9536 | G Loss: 2.3841\n",
      "Epoch [81/100] | D Loss: 0.6165 | G Loss: 1.5594\n",
      "Epoch [82/100] | D Loss: 0.6971 | G Loss: 1.3492\n",
      "Epoch [83/100] | D Loss: 0.8752 | G Loss: 1.0485\n",
      "Epoch [84/100] | D Loss: 0.7803 | G Loss: 2.3275\n",
      "Epoch [85/100] | D Loss: 0.8038 | G Loss: 1.7258\n",
      "Epoch [86/100] | D Loss: 0.9471 | G Loss: 1.9403\n",
      "Epoch [87/100] | D Loss: 1.0439 | G Loss: 2.0420\n",
      "Epoch [88/100] | D Loss: 0.8564 | G Loss: 1.2563\n",
      "Epoch [89/100] | D Loss: 0.8101 | G Loss: 1.5376\n",
      "Epoch [90/100] | D Loss: 0.8422 | G Loss: 1.6766\n",
      "Epoch [91/100] | D Loss: 0.5950 | G Loss: 1.9891\n",
      "Epoch [92/100] | D Loss: 0.6869 | G Loss: 1.1271\n",
      "Epoch [93/100] | D Loss: 0.6655 | G Loss: 1.5303\n",
      "Epoch [94/100] | D Loss: 0.9407 | G Loss: 1.4554\n",
      "Epoch [95/100] | D Loss: 0.9975 | G Loss: 1.5824\n",
      "Epoch [96/100] | D Loss: 0.6779 | G Loss: 1.8000\n",
      "Epoch [97/100] | D Loss: 0.9268 | G Loss: 1.3036\n",
      "Epoch [98/100] | D Loss: 0.6856 | G Loss: 1.4840\n",
      "Epoch [99/100] | D Loss: 0.8148 | G Loss: 1.5573\n",
      "Epoch [100/100] | D Loss: 0.8593 | G Loss: 2.0234\n"
     ]
    }
   ],
   "source": [
    "# Training loop\n",
    "for epoch in range(n_epochs):\n",
    "    for batch_idx, (real_images, _) in enumerate(train_loader):\n",
    "        real_images = real_images.to('cuda')\n",
    "        current_batch_size = real_images.size(0)\n",
    "        \n",
    "        # Real and fake labels\n",
    "        real_labels = torch.ones(current_batch_size, 1).to('cuda')\n",
    "        fake_labels = torch.zeros(current_batch_size, 1).to('cuda')\n",
    "        \n",
    "        # Train Discriminator\n",
    "        opt_d.zero_grad()\n",
    "        \n",
    "        z = torch.randn(current_batch_size, latent_dim).to('cuda')\n",
    "        fake_images = gen(z)\n",
    "        \n",
    "        D_real = disc(real_images)\n",
    "        D_fake = disc(fake_images.detach())\n",
    "        \n",
    "        real_loss = adversarial_loss(D_real, real_labels)\n",
    "        fake_loss = adversarial_loss(D_fake, fake_labels)\n",
    "        \n",
    "        D_loss = real_loss + fake_loss\n",
    "        D_loss.backward()\n",
    "        opt_d.step()\n",
    "        \n",
    "        # Train Generator\n",
    "        opt_g.zero_grad()\n",
    "        \n",
    "        z = torch.randn(current_batch_size, latent_dim).to('cuda')\n",
    "        fake_images = gen(z)\n",
    "        D_fake = disc(fake_images)\n",
    "        \n",
    "        G_loss = adversarial_loss(D_fake, real_labels)\n",
    "        G_loss.backward()\n",
    "        opt_g.step()\n",
    "    \n",
    "    print(f\"Epoch [{epoch+1}/{n_epochs}] | D Loss: {D_loss.item():.4f} | G Loss: {G_loss.item():.4f}\")"
   ]
  },
  {
   "cell_type": "code",
   "execution_count": 32,
   "metadata": {},
   "outputs": [
    {
     "name": "stdout",
     "output_type": "stream",
     "text": [
      "Training completed. Sample images saved as 'gan_samples.png'.\n"
     ]
    }
   ],
   "source": [
    "# Generate and save sample images\n",
    "with torch.no_grad():\n",
    "    z = torch.randn(16, latent_dim).to('cuda')\n",
    "    sample_images = gen(z)\n",
    "    sample_images = sample_images.cpu().numpy()\n",
    "\n",
    "fig, axes = plt.subplots(4, 4, figsize=(10, 10))\n",
    "for i, ax in enumerate(axes.flat):\n",
    "    ax.imshow(sample_images[i, 0], cmap='gray')\n",
    "    ax.axis('off')\n",
    "plt.savefig('gan_samples.png')\n",
    "plt.close()\n",
    "\n",
    "print(\"Training completed. Sample images saved as 'gan_samples.png'.\")"
   ]
  },
  {
   "cell_type": "code",
   "execution_count": 33,
   "metadata": {},
   "outputs": [],
   "source": [
    "torch.save(gen,f='./GAN weights/generator.pt')"
   ]
  },
  {
   "cell_type": "code",
   "execution_count": 34,
   "metadata": {},
   "outputs": [],
   "source": [
    "torch.save(disc,f='./GAN weights/discriminator.pt')"
   ]
  }
 ],
 "metadata": {
  "kernelspec": {
   "display_name": "Python 3",
   "language": "python",
   "name": "python3"
  },
  "language_info": {
   "codemirror_mode": {
    "name": "ipython",
    "version": 3
   },
   "file_extension": ".py",
   "mimetype": "text/x-python",
   "name": "python",
   "nbconvert_exporter": "python",
   "pygments_lexer": "ipython3",
   "version": "3.12.6"
  }
 },
 "nbformat": 4,
 "nbformat_minor": 2
}
